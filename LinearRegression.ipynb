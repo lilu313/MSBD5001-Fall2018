{
  "nbformat": 4,
  "nbformat_minor": 0,
  "metadata": {
    "colab": {
      "name": "LinearRegression.ipynb",
      "version": "0.3.2",
      "provenance": [],
      "collapsed_sections": [],
      "include_colab_link": true
    },
    "kernelspec": {
      "name": "python3",
      "display_name": "Python 3"
    },
    "accelerator": "GPU"
  },
  "cells": [
    {
      "cell_type": "markdown",
      "metadata": {
        "id": "view-in-github",
        "colab_type": "text"
      },
      "source": [
        "<a href=\"https://colab.research.google.com/github/lilu313/MSBD5001-Fall2018/blob/master/LinearRegression.ipynb\" target=\"_parent\"><img src=\"https://colab.research.google.com/assets/colab-badge.svg\" alt=\"Open In Colab\"/></a>"
      ]
    },
    {
      "metadata": {
        "id": "xbNBf8HE-tHg",
        "colab_type": "code",
        "colab": {}
      },
      "cell_type": "code",
      "source": [
        "import pandas as pd\n",
        "import numpy as np\n",
        "import math\n",
        "from matplotlib import pyplot as plt\n",
        "from sklearn import preprocessing\n",
        "from sklearn.feature_selection import VarianceThreshold, RFE\n",
        "from sklearn.decomposition import PCA\n",
        "from sklearn.linear_model import LinearRegression\n",
        "from sklearn.model_selection import cross_val_predict\n",
        "from sklearn.metrics import mean_squared_error"
      ],
      "execution_count": 0,
      "outputs": []
    },
    {
      "metadata": {
        "id": "gmsDPy3u-4LD",
        "colab_type": "code",
        "outputId": "f761ec14-28d6-42d5-96fd-4742247baff2",
        "colab": {
          "base_uri": "https://localhost:8080/",
          "height": 35
        }
      },
      "cell_type": "code",
      "source": [
        "# please upload train.csv and test.csv to google drive first\n",
        "# mounting google drive\n",
        "from google.colab import drive\n",
        "drive.mount('/content/gdrive')"
      ],
      "execution_count": 2,
      "outputs": [
        {
          "output_type": "stream",
          "text": [
            "Drive already mounted at /content/gdrive; to attempt to forcibly remount, call drive.mount(\"/content/gdrive\", force_remount=True).\n"
          ],
          "name": "stdout"
        }
      ]
    },
    {
      "metadata": {
        "id": "1E78UE6GA_Lu",
        "colab_type": "text"
      },
      "cell_type": "markdown",
      "source": [
        "TRAIN SET"
      ]
    },
    {
      "metadata": {
        "id": "ahqEuh9l-89J",
        "colab_type": "code",
        "colab": {}
      },
      "cell_type": "code",
      "source": [
        "train = pd.read_csv('/content/gdrive/My Drive/train.csv', index_col=0)"
      ],
      "execution_count": 0,
      "outputs": []
    },
    {
      "metadata": {
        "id": "V-iTvXJt_E2W",
        "colab_type": "code",
        "outputId": "2e4c95db-ebe0-41fa-b47f-1d2168c0c259",
        "colab": {
          "base_uri": "https://localhost:8080/",
          "height": 238
        }
      },
      "cell_type": "code",
      "source": [
        "train['n_jobs'].replace({-1:16}, inplace=True)\n",
        "\n",
        "# transform the nominal feature 'penalty' into one hot vector\n",
        "train['penalty'].replace({'none':0, 'l1':1, 'elasticnet':2, 'l2':3}, inplace=True)\n",
        "n_feature = []\n",
        "for i in range(len(train)):\n",
        "  n_feature.append([train.iloc[i]['penalty']])\n",
        "enc = preprocessing.OneHotEncoder(sparse=False)\n",
        "n_feature = enc.fit_transform(n_feature).tolist()\n",
        "for i in range(len(train)):\n",
        "  for j in range(4):\n",
        "    train.loc[i, j] = n_feature[i][j]\n",
        "train.pop('penalty')\n",
        "\n",
        "\n",
        "# split the features and the target\n",
        "# also take log of 'time' because of its skewed distribution\n",
        "y_train = train['time'].tolist()\n",
        "log_y_train = []\n",
        "for i in range(len(y_train)):\n",
        "  log_y_train.append(math.log(y_train[i]+1))\n",
        "train.pop('time')\n",
        "\n",
        "train.pop('random_state')\n",
        "\n",
        "train.head()"
      ],
      "execution_count": 4,
      "outputs": [
        {
          "output_type": "execute_result",
          "data": {
            "text/html": [
              "<div>\n",
              "<style scoped>\n",
              "    .dataframe tbody tr th:only-of-type {\n",
              "        vertical-align: middle;\n",
              "    }\n",
              "\n",
              "    .dataframe tbody tr th {\n",
              "        vertical-align: top;\n",
              "    }\n",
              "\n",
              "    .dataframe thead th {\n",
              "        text-align: right;\n",
              "    }\n",
              "</style>\n",
              "<table border=\"1\" class=\"dataframe\">\n",
              "  <thead>\n",
              "    <tr style=\"text-align: right;\">\n",
              "      <th></th>\n",
              "      <th>l1_ratio</th>\n",
              "      <th>alpha</th>\n",
              "      <th>max_iter</th>\n",
              "      <th>n_jobs</th>\n",
              "      <th>n_samples</th>\n",
              "      <th>n_features</th>\n",
              "      <th>n_classes</th>\n",
              "      <th>n_clusters_per_class</th>\n",
              "      <th>n_informative</th>\n",
              "      <th>flip_y</th>\n",
              "      <th>scale</th>\n",
              "      <th>0</th>\n",
              "      <th>1</th>\n",
              "      <th>2</th>\n",
              "      <th>3</th>\n",
              "    </tr>\n",
              "    <tr>\n",
              "      <th>id</th>\n",
              "      <th></th>\n",
              "      <th></th>\n",
              "      <th></th>\n",
              "      <th></th>\n",
              "      <th></th>\n",
              "      <th></th>\n",
              "      <th></th>\n",
              "      <th></th>\n",
              "      <th></th>\n",
              "      <th></th>\n",
              "      <th></th>\n",
              "      <th></th>\n",
              "      <th></th>\n",
              "      <th></th>\n",
              "      <th></th>\n",
              "    </tr>\n",
              "  </thead>\n",
              "  <tbody>\n",
              "    <tr>\n",
              "      <th>0</th>\n",
              "      <td>0.304083</td>\n",
              "      <td>0.0001</td>\n",
              "      <td>417</td>\n",
              "      <td>16</td>\n",
              "      <td>1089</td>\n",
              "      <td>327</td>\n",
              "      <td>4</td>\n",
              "      <td>3</td>\n",
              "      <td>7</td>\n",
              "      <td>0.074798</td>\n",
              "      <td>24.242009</td>\n",
              "      <td>1.0</td>\n",
              "      <td>0.0</td>\n",
              "      <td>0.0</td>\n",
              "      <td>0.0</td>\n",
              "    </tr>\n",
              "    <tr>\n",
              "      <th>1</th>\n",
              "      <td>0.727744</td>\n",
              "      <td>0.0010</td>\n",
              "      <td>578</td>\n",
              "      <td>1</td>\n",
              "      <td>790</td>\n",
              "      <td>373</td>\n",
              "      <td>4</td>\n",
              "      <td>5</td>\n",
              "      <td>7</td>\n",
              "      <td>0.077781</td>\n",
              "      <td>54.626302</td>\n",
              "      <td>0.0</td>\n",
              "      <td>1.0</td>\n",
              "      <td>0.0</td>\n",
              "      <td>0.0</td>\n",
              "    </tr>\n",
              "    <tr>\n",
              "      <th>2</th>\n",
              "      <td>0.745885</td>\n",
              "      <td>0.0100</td>\n",
              "      <td>588</td>\n",
              "      <td>2</td>\n",
              "      <td>428</td>\n",
              "      <td>1198</td>\n",
              "      <td>2</td>\n",
              "      <td>5</td>\n",
              "      <td>6</td>\n",
              "      <td>0.030196</td>\n",
              "      <td>17.999964</td>\n",
              "      <td>1.0</td>\n",
              "      <td>0.0</td>\n",
              "      <td>0.0</td>\n",
              "      <td>0.0</td>\n",
              "    </tr>\n",
              "    <tr>\n",
              "      <th>3</th>\n",
              "      <td>0.474605</td>\n",
              "      <td>0.0010</td>\n",
              "      <td>829</td>\n",
              "      <td>4</td>\n",
              "      <td>877</td>\n",
              "      <td>313</td>\n",
              "      <td>6</td>\n",
              "      <td>5</td>\n",
              "      <td>7</td>\n",
              "      <td>0.057261</td>\n",
              "      <td>82.257222</td>\n",
              "      <td>1.0</td>\n",
              "      <td>0.0</td>\n",
              "      <td>0.0</td>\n",
              "      <td>0.0</td>\n",
              "    </tr>\n",
              "    <tr>\n",
              "      <th>4</th>\n",
              "      <td>0.395049</td>\n",
              "      <td>0.0010</td>\n",
              "      <td>167</td>\n",
              "      <td>2</td>\n",
              "      <td>216</td>\n",
              "      <td>644</td>\n",
              "      <td>8</td>\n",
              "      <td>5</td>\n",
              "      <td>11</td>\n",
              "      <td>0.073728</td>\n",
              "      <td>95.515601</td>\n",
              "      <td>0.0</td>\n",
              "      <td>0.0</td>\n",
              "      <td>1.0</td>\n",
              "      <td>0.0</td>\n",
              "    </tr>\n",
              "  </tbody>\n",
              "</table>\n",
              "</div>"
            ],
            "text/plain": [
              "    l1_ratio   alpha  max_iter  n_jobs  n_samples  n_features  n_classes  \\\n",
              "id                                                                         \n",
              "0   0.304083  0.0001       417      16       1089         327          4   \n",
              "1   0.727744  0.0010       578       1        790         373          4   \n",
              "2   0.745885  0.0100       588       2        428        1198          2   \n",
              "3   0.474605  0.0010       829       4        877         313          6   \n",
              "4   0.395049  0.0010       167       2        216         644          8   \n",
              "\n",
              "    n_clusters_per_class  n_informative    flip_y      scale    0    1    2  \\\n",
              "id                                                                            \n",
              "0                      3              7  0.074798  24.242009  1.0  0.0  0.0   \n",
              "1                      5              7  0.077781  54.626302  0.0  1.0  0.0   \n",
              "2                      5              6  0.030196  17.999964  1.0  0.0  0.0   \n",
              "3                      5              7  0.057261  82.257222  1.0  0.0  0.0   \n",
              "4                      5             11  0.073728  95.515601  0.0  0.0  1.0   \n",
              "\n",
              "      3  \n",
              "id       \n",
              "0   0.0  \n",
              "1   0.0  \n",
              "2   0.0  \n",
              "3   0.0  \n",
              "4   0.0  "
            ]
          },
          "metadata": {
            "tags": []
          },
          "execution_count": 4
        }
      ]
    },
    {
      "metadata": {
        "id": "iXm7_GZZ_KoJ",
        "colab_type": "code",
        "outputId": "88514bac-4e9c-4fce-980f-fe11279defdf",
        "colab": {
          "base_uri": "https://localhost:8080/",
          "height": 347
        }
      },
      "cell_type": "code",
      "source": [
        "# plot the distribution of 'time'\n",
        "fig,ax=plt.subplots()\n",
        "ax.hist(y_train,bins=20,histtype=\"stepfilled\",alpha=0.6)\n",
        "plt.show()"
      ],
      "execution_count": 5,
      "outputs": [
        {
          "output_type": "display_data",
          "data": {
            "image/png": "[encoded data removed]",
            "text/plain": [
              "<matplotlib.figure.Figure at 0x7f45d9efc860>"
            ]
          },
          "metadata": {
            "tags": []
          }
        }
      ]
    },
    {
      "metadata": {
        "id": "838kHjDv_NaS",
        "colab_type": "code",
        "outputId": "9d54be50-3d0f-4507-8da5-546b47e5fc64",
        "colab": {
          "base_uri": "https://localhost:8080/",
          "height": 35
        }
      },
      "cell_type": "code",
      "source": [
        "train.shape"
      ],
      "execution_count": 6,
      "outputs": [
        {
          "output_type": "execute_result",
          "data": {
            "text/plain": [
              "(400, 15)"
            ]
          },
          "metadata": {
            "tags": []
          },
          "execution_count": 6
        }
      ]
    },
    {
      "metadata": {
        "id": "r0_88sZA_QeM",
        "colab_type": "code",
        "outputId": "5781149c-2f2a-4ea7-cb03-9394923f6f23",
        "colab": {
          "base_uri": "https://localhost:8080/",
          "height": 54
        }
      },
      "cell_type": "code",
      "source": [
        "X_train = []\n",
        "for i in range(len(train)):\n",
        "  X_train.append(train.iloc[i].tolist())\n",
        "print(len(X_train))\n",
        "print(len(X_train[0]))"
      ],
      "execution_count": 7,
      "outputs": [
        {
          "output_type": "stream",
          "text": [
            "400\n",
            "15\n"
          ],
          "name": "stdout"
        }
      ]
    },
    {
      "metadata": {
        "id": "DV6YW47h_SfJ",
        "colab_type": "code",
        "colab": {}
      },
      "cell_type": "code",
      "source": [
        "scaler = preprocessing.MinMaxScaler().fit(np.array(X_train))\n",
        "X_train = scaler.transform(np.array(X_train))"
      ],
      "execution_count": 0,
      "outputs": []
    },
    {
      "metadata": {
        "id": "oP5dCyqa_VyE",
        "colab_type": "code",
        "outputId": "272d1698-356f-4ccd-c18a-13988674d21d",
        "colab": {
          "base_uri": "https://localhost:8080/",
          "height": 35
        }
      },
      "cell_type": "code",
      "source": [
        "poly = preprocessing.PolynomialFeatures().fit(X_train)\n",
        "X_train = poly.transform(X_train)\n",
        "X_train.shape"
      ],
      "execution_count": 9,
      "outputs": [
        {
          "output_type": "execute_result",
          "data": {
            "text/plain": [
              "(400, 136)"
            ]
          },
          "metadata": {
            "tags": []
          },
          "execution_count": 9
        }
      ]
    },
    {
      "metadata": {
        "id": "vglOBFS2_g-A",
        "colab_type": "code",
        "outputId": "42f3b5a0-e46e-42a4-af92-b0d1ad3c1a64",
        "colab": {
          "base_uri": "https://localhost:8080/",
          "height": 35
        }
      },
      "cell_type": "code",
      "source": [
        "var = VarianceThreshold(threshold=0.05).fit(X_train)\n",
        "X_train_select = var.transform(X_train)\n",
        "X_train_select.shape"
      ],
      "execution_count": 10,
      "outputs": [
        {
          "output_type": "execute_result",
          "data": {
            "text/plain": [
              "(400, 113)"
            ]
          },
          "metadata": {
            "tags": []
          },
          "execution_count": 10
        }
      ]
    },
    {
      "metadata": {
        "id": "EiNmMlUq_kw4",
        "colab_type": "code",
        "outputId": "83131c09-1ec7-477d-cfa2-54c6ff9295ad",
        "colab": {
          "base_uri": "https://localhost:8080/",
          "height": 35
        }
      },
      "cell_type": "code",
      "source": [
        "rfe = RFE(estimator=LinearRegression(), n_features_to_select=50).fit(X_train_select, log_y_train)\n",
        "X_train_select = rfe.transform(X_train_select)\n",
        "X_train_select.shape"
      ],
      "execution_count": 11,
      "outputs": [
        {
          "output_type": "execute_result",
          "data": {
            "text/plain": [
              "(400, 50)"
            ]
          },
          "metadata": {
            "tags": []
          },
          "execution_count": 11
        }
      ]
    },
    {
      "metadata": {
        "id": "uJgydWhZ_mzL",
        "colab_type": "code",
        "outputId": "fb6b1168-23fa-4681-960e-2d024cb2a625",
        "colab": {
          "base_uri": "https://localhost:8080/",
          "height": 35
        }
      },
      "cell_type": "code",
      "source": [
        "pca = PCA(n_components=0.9999).fit(X_train_select)\n",
        "X_train_select = pca.transform(X_train_select)\n",
        "X_train_select.shape"
      ],
      "execution_count": 12,
      "outputs": [
        {
          "output_type": "execute_result",
          "data": {
            "text/plain": [
              "(400, 44)"
            ]
          },
          "metadata": {
            "tags": []
          },
          "execution_count": 12
        }
      ]
    },
    {
      "metadata": {
        "id": "n07HCvsJ_qIy",
        "colab_type": "text"
      },
      "cell_type": "markdown",
      "source": [
        "TEST SET"
      ]
    },
    {
      "metadata": {
        "id": "4z7vSMHy_pV-",
        "colab_type": "code",
        "colab": {}
      },
      "cell_type": "code",
      "source": [
        "test = pd.read_csv('/content/gdrive/My Drive/test.csv', index_col=0)"
      ],
      "execution_count": 0,
      "outputs": []
    },
    {
      "metadata": {
        "id": "UgKk2rhv_vUd",
        "colab_type": "code",
        "outputId": "dec38942-14ad-4976-d918-f7e400fcccdb",
        "colab": {
          "base_uri": "https://localhost:8080/",
          "height": 238
        }
      },
      "cell_type": "code",
      "source": [
        "test['n_jobs'].replace({-1:16}, inplace=True)\n",
        "test['penalty'].replace({'none':0, 'l1':1, 'elasticnet':2, 'l2':3}, inplace=True)\n",
        "\n",
        "n_feature = []\n",
        "for i in range(len(test)):\n",
        "  n_feature.append([test.iloc[i]['penalty']])\n",
        "enc = preprocessing.OneHotEncoder(sparse=False)\n",
        "n_feature = enc.fit_transform(n_feature).tolist()\n",
        "for i in range(len(test)):\n",
        "  for j in range(4):\n",
        "    test.loc[i, j] = n_feature[i][j]\n",
        "test.pop('penalty')\n",
        "test.pop('random_state')\n",
        "\n",
        "test.head()"
      ],
      "execution_count": 14,
      "outputs": [
        {
          "output_type": "execute_result",
          "data": {
            "text/html": [
              "<div>\n",
              "<style scoped>\n",
              "    .dataframe tbody tr th:only-of-type {\n",
              "        vertical-align: middle;\n",
              "    }\n",
              "\n",
              "    .dataframe tbody tr th {\n",
              "        vertical-align: top;\n",
              "    }\n",
              "\n",
              "    .dataframe thead th {\n",
              "        text-align: right;\n",
              "    }\n",
              "</style>\n",
              "<table border=\"1\" class=\"dataframe\">\n",
              "  <thead>\n",
              "    <tr style=\"text-align: right;\">\n",
              "      <th></th>\n",
              "      <th>l1_ratio</th>\n",
              "      <th>alpha</th>\n",
              "      <th>max_iter</th>\n",
              "      <th>n_jobs</th>\n",
              "      <th>n_samples</th>\n",
              "      <th>n_features</th>\n",
              "      <th>n_classes</th>\n",
              "      <th>n_clusters_per_class</th>\n",
              "      <th>n_informative</th>\n",
              "      <th>flip_y</th>\n",
              "      <th>scale</th>\n",
              "      <th>0</th>\n",
              "      <th>1</th>\n",
              "      <th>2</th>\n",
              "      <th>3</th>\n",
              "    </tr>\n",
              "    <tr>\n",
              "      <th>id</th>\n",
              "      <th></th>\n",
              "      <th></th>\n",
              "      <th></th>\n",
              "      <th></th>\n",
              "      <th></th>\n",
              "      <th></th>\n",
              "      <th></th>\n",
              "      <th></th>\n",
              "      <th></th>\n",
              "      <th></th>\n",
              "      <th></th>\n",
              "      <th></th>\n",
              "      <th></th>\n",
              "      <th></th>\n",
              "      <th></th>\n",
              "    </tr>\n",
              "  </thead>\n",
              "  <tbody>\n",
              "    <tr>\n",
              "      <th>0</th>\n",
              "      <td>0.690384</td>\n",
              "      <td>0.001</td>\n",
              "      <td>602</td>\n",
              "      <td>4</td>\n",
              "      <td>1376</td>\n",
              "      <td>1078</td>\n",
              "      <td>3</td>\n",
              "      <td>4</td>\n",
              "      <td>8</td>\n",
              "      <td>0.049072</td>\n",
              "      <td>40.832757</td>\n",
              "      <td>0.0</td>\n",
              "      <td>0.0</td>\n",
              "      <td>0.0</td>\n",
              "      <td>1.0</td>\n",
              "    </tr>\n",
              "    <tr>\n",
              "      <th>1</th>\n",
              "      <td>0.215088</td>\n",
              "      <td>0.001</td>\n",
              "      <td>522</td>\n",
              "      <td>4</td>\n",
              "      <td>598</td>\n",
              "      <td>1528</td>\n",
              "      <td>10</td>\n",
              "      <td>3</td>\n",
              "      <td>11</td>\n",
              "      <td>0.041393</td>\n",
              "      <td>68.611537</td>\n",
              "      <td>0.0</td>\n",
              "      <td>0.0</td>\n",
              "      <td>1.0</td>\n",
              "      <td>0.0</td>\n",
              "    </tr>\n",
              "    <tr>\n",
              "      <th>2</th>\n",
              "      <td>0.217458</td>\n",
              "      <td>0.001</td>\n",
              "      <td>398</td>\n",
              "      <td>16</td>\n",
              "      <td>553</td>\n",
              "      <td>1008</td>\n",
              "      <td>8</td>\n",
              "      <td>5</td>\n",
              "      <td>8</td>\n",
              "      <td>0.005987</td>\n",
              "      <td>61.713892</td>\n",
              "      <td>0.0</td>\n",
              "      <td>0.0</td>\n",
              "      <td>0.0</td>\n",
              "      <td>1.0</td>\n",
              "    </tr>\n",
              "    <tr>\n",
              "      <th>3</th>\n",
              "      <td>0.120303</td>\n",
              "      <td>0.001</td>\n",
              "      <td>439</td>\n",
              "      <td>16</td>\n",
              "      <td>1977</td>\n",
              "      <td>1319</td>\n",
              "      <td>3</td>\n",
              "      <td>4</td>\n",
              "      <td>10</td>\n",
              "      <td>0.002964</td>\n",
              "      <td>58.631194</td>\n",
              "      <td>1.0</td>\n",
              "      <td>0.0</td>\n",
              "      <td>0.0</td>\n",
              "      <td>0.0</td>\n",
              "    </tr>\n",
              "    <tr>\n",
              "      <th>4</th>\n",
              "      <td>0.458851</td>\n",
              "      <td>0.010</td>\n",
              "      <td>278</td>\n",
              "      <td>4</td>\n",
              "      <td>1826</td>\n",
              "      <td>1530</td>\n",
              "      <td>7</td>\n",
              "      <td>5</td>\n",
              "      <td>8</td>\n",
              "      <td>0.050126</td>\n",
              "      <td>87.315374</td>\n",
              "      <td>1.0</td>\n",
              "      <td>0.0</td>\n",
              "      <td>0.0</td>\n",
              "      <td>0.0</td>\n",
              "    </tr>\n",
              "  </tbody>\n",
              "</table>\n",
              "</div>"
            ],
            "text/plain": [
              "    l1_ratio  alpha  max_iter  n_jobs  n_samples  n_features  n_classes  \\\n",
              "id                                                                        \n",
              "0   0.690384  0.001       602       4       1376        1078          3   \n",
              "1   0.215088  0.001       522       4        598        1528         10   \n",
              "2   0.217458  0.001       398      16        553        1008          8   \n",
              "3   0.120303  0.001       439      16       1977        1319          3   \n",
              "4   0.458851  0.010       278       4       1826        1530          7   \n",
              "\n",
              "    n_clusters_per_class  n_informative    flip_y      scale    0    1    2  \\\n",
              "id                                                                            \n",
              "0                      4              8  0.049072  40.832757  0.0  0.0  0.0   \n",
              "1                      3             11  0.041393  68.611537  0.0  0.0  1.0   \n",
              "2                      5              8  0.005987  61.713892  0.0  0.0  0.0   \n",
              "3                      4             10  0.002964  58.631194  1.0  0.0  0.0   \n",
              "4                      5              8  0.050126  87.315374  1.0  0.0  0.0   \n",
              "\n",
              "      3  \n",
              "id       \n",
              "0   1.0  \n",
              "1   0.0  \n",
              "2   1.0  \n",
              "3   0.0  \n",
              "4   0.0  "
            ]
          },
          "metadata": {
            "tags": []
          },
          "execution_count": 14
        }
      ]
    },
    {
      "metadata": {
        "id": "k_4e1Dz3_x8v",
        "colab_type": "code",
        "outputId": "a12535d7-219e-4938-bae7-750bce519d8a",
        "colab": {
          "base_uri": "https://localhost:8080/",
          "height": 35
        }
      },
      "cell_type": "code",
      "source": [
        "test.shape"
      ],
      "execution_count": 15,
      "outputs": [
        {
          "output_type": "execute_result",
          "data": {
            "text/plain": [
              "(100, 15)"
            ]
          },
          "metadata": {
            "tags": []
          },
          "execution_count": 15
        }
      ]
    },
    {
      "metadata": {
        "id": "Cjuv8fcb_zy-",
        "colab_type": "code",
        "outputId": "04a1bec1-7475-450d-8c8b-244d2054b4f4",
        "colab": {
          "base_uri": "https://localhost:8080/",
          "height": 54
        }
      },
      "cell_type": "code",
      "source": [
        "X_test = []\n",
        "for i in range(len(test)):\n",
        "  X_test.append(test.iloc[i].tolist())\n",
        "print(len(X_test))\n",
        "print(len(X_test[0]))"
      ],
      "execution_count": 16,
      "outputs": [
        {
          "output_type": "stream",
          "text": [
            "100\n",
            "15\n"
          ],
          "name": "stdout"
        }
      ]
    },
    {
      "metadata": {
        "id": "f9vFPsks_1g-",
        "colab_type": "code",
        "colab": {}
      },
      "cell_type": "code",
      "source": [
        "X_test = scaler.transform(np.array(X_test))"
      ],
      "execution_count": 0,
      "outputs": []
    },
    {
      "metadata": {
        "id": "k6_50twq_3Z-",
        "colab_type": "code",
        "outputId": "bb3dc4b2-a10d-43ea-e62c-501e709eff2d",
        "colab": {
          "base_uri": "https://localhost:8080/",
          "height": 35
        }
      },
      "cell_type": "code",
      "source": [
        "X_test = poly.transform(X_test)\n",
        "X_test.shape"
      ],
      "execution_count": 18,
      "outputs": [
        {
          "output_type": "execute_result",
          "data": {
            "text/plain": [
              "(100, 136)"
            ]
          },
          "metadata": {
            "tags": []
          },
          "execution_count": 18
        }
      ]
    },
    {
      "metadata": {
        "id": "c-BJFuI4_43v",
        "colab_type": "code",
        "outputId": "4aca0092-314b-4b73-a73a-f6de7abe713d",
        "colab": {
          "base_uri": "https://localhost:8080/",
          "height": 35
        }
      },
      "cell_type": "code",
      "source": [
        "X_test_select = var.transform(X_test)\n",
        "X_test_select.shape"
      ],
      "execution_count": 19,
      "outputs": [
        {
          "output_type": "execute_result",
          "data": {
            "text/plain": [
              "(100, 113)"
            ]
          },
          "metadata": {
            "tags": []
          },
          "execution_count": 19
        }
      ]
    },
    {
      "metadata": {
        "id": "qOukUEU8AAMS",
        "colab_type": "code",
        "outputId": "aac036cf-bbfd-45ab-c247-30e5498837ec",
        "colab": {
          "base_uri": "https://localhost:8080/",
          "height": 35
        }
      },
      "cell_type": "code",
      "source": [
        "X_test_select = rfe.transform(X_test_select)\n",
        "X_test_select.shape"
      ],
      "execution_count": 20,
      "outputs": [
        {
          "output_type": "execute_result",
          "data": {
            "text/plain": [
              "(100, 50)"
            ]
          },
          "metadata": {
            "tags": []
          },
          "execution_count": 20
        }
      ]
    },
    {
      "metadata": {
        "id": "Pomy7I6cACTC",
        "colab_type": "code",
        "outputId": "7947eb57-345d-4d5f-e5b5-e4c2ff2d6959",
        "colab": {
          "base_uri": "https://localhost:8080/",
          "height": 35
        }
      },
      "cell_type": "code",
      "source": [
        "X_test_select = pca.transform(X_test_select)\n",
        "X_test_select.shape"
      ],
      "execution_count": 21,
      "outputs": [
        {
          "output_type": "execute_result",
          "data": {
            "text/plain": [
              "(100, 44)"
            ]
          },
          "metadata": {
            "tags": []
          },
          "execution_count": 21
        }
      ]
    },
    {
      "metadata": {
        "id": "qXrhxLx9AFYl",
        "colab_type": "text"
      },
      "cell_type": "markdown",
      "source": [
        "Linear Regression"
      ]
    },
    {
      "metadata": {
        "id": "TnTiORhTAEjw",
        "colab_type": "code",
        "colab": {}
      },
      "cell_type": "code",
      "source": [
        "lr = LinearRegression()"
      ],
      "execution_count": 0,
      "outputs": []
    },
    {
      "metadata": {
        "id": "mfUWMnaJAJcy",
        "colab_type": "code",
        "colab": {}
      },
      "cell_type": "code",
      "source": [
        "predict = cross_val_predict(lr, X_train_select, log_y_train, cv=10)"
      ],
      "execution_count": 0,
      "outputs": []
    },
    {
      "metadata": {
        "id": "jLi8imD1AK3o",
        "colab_type": "code",
        "colab": {}
      },
      "cell_type": "code",
      "source": [
        "for i in range(len(predict)):\n",
        "  predict[i] = math.exp(predict[i]) - 1\n",
        "  if (predict[i]<0):\n",
        "    predict[i] = 0"
      ],
      "execution_count": 0,
      "outputs": []
    },
    {
      "metadata": {
        "id": "Rw_S4x14AMbc",
        "colab_type": "code",
        "outputId": "8bf7c28c-b3f6-4e09-ddcc-9adbdb60356f",
        "colab": {
          "base_uri": "https://localhost:8080/",
          "height": 35
        }
      },
      "cell_type": "code",
      "source": [
        "mean_squared_error(y_train, predict)"
      ],
      "execution_count": 25,
      "outputs": [
        {
          "output_type": "execute_result",
          "data": {
            "text/plain": [
              "2.6532479509931424"
            ]
          },
          "metadata": {
            "tags": []
          },
          "execution_count": 25
        }
      ]
    },
    {
      "metadata": {
        "id": "wIcfK5K6APWW",
        "colab_type": "code",
        "colab": {}
      },
      "cell_type": "code",
      "source": [
        "lr = LinearRegression().fit(X_train_select, log_y_train)"
      ],
      "execution_count": 0,
      "outputs": []
    },
    {
      "metadata": {
        "id": "59xnaWgcARi8",
        "colab_type": "code",
        "colab": {}
      },
      "cell_type": "code",
      "source": [
        "result = lr.predict(X_test_select)"
      ],
      "execution_count": 0,
      "outputs": []
    },
    {
      "metadata": {
        "id": "rYLcJLAXAUgD",
        "colab_type": "code",
        "colab": {}
      },
      "cell_type": "code",
      "source": [
        "for i in range(len(result)):\n",
        "  result[i] = math.exp(result[i]) - 1"
      ],
      "execution_count": 0,
      "outputs": []
    },
    {
      "metadata": {
        "id": "-mSjBqXAAYXy",
        "colab_type": "code",
        "colab": {}
      },
      "cell_type": "code",
      "source": [
        "df = pd.DataFrame(columns=['Id', 'time'])"
      ],
      "execution_count": 0,
      "outputs": []
    },
    {
      "metadata": {
        "id": "754zneDjAaNy",
        "colab_type": "code",
        "colab": {}
      },
      "cell_type": "code",
      "source": [
        "for i in range(len(result)):\n",
        "  df.loc[i, 'Id'] = i\n",
        "  if(result[i]>=0):\n",
        "    df.loc[i, 'time'] = result[i]\n",
        "  else:\n",
        "    df.loc[i, 'time'] = 0"
      ],
      "execution_count": 0,
      "outputs": []
    },
    {
      "metadata": {
        "id": "7-1LqDRZAb1N",
        "colab_type": "code",
        "outputId": "2dd33b6e-827a-4d1d-81a9-3d4ed6ae9949",
        "colab": {
          "base_uri": "https://localhost:8080/",
          "height": 206
        }
      },
      "cell_type": "code",
      "source": [
        "df.head()"
      ],
      "execution_count": 31,
      "outputs": [
        {
          "output_type": "execute_result",
          "data": {
            "text/html": [
              "<div>\n",
              "<style scoped>\n",
              "    .dataframe tbody tr th:only-of-type {\n",
              "        vertical-align: middle;\n",
              "    }\n",
              "\n",
              "    .dataframe tbody tr th {\n",
              "        vertical-align: top;\n",
              "    }\n",
              "\n",
              "    .dataframe thead th {\n",
              "        text-align: right;\n",
              "    }\n",
              "</style>\n",
              "<table border=\"1\" class=\"dataframe\">\n",
              "  <thead>\n",
              "    <tr style=\"text-align: right;\">\n",
              "      <th></th>\n",
              "      <th>Id</th>\n",
              "      <th>time</th>\n",
              "    </tr>\n",
              "  </thead>\n",
              "  <tbody>\n",
              "    <tr>\n",
              "      <th>0</th>\n",
              "      <td>0</td>\n",
              "      <td>1.06086</td>\n",
              "    </tr>\n",
              "    <tr>\n",
              "      <th>1</th>\n",
              "      <td>1</td>\n",
              "      <td>12.1109</td>\n",
              "    </tr>\n",
              "    <tr>\n",
              "      <th>2</th>\n",
              "      <td>2</td>\n",
              "      <td>0.436049</td>\n",
              "    </tr>\n",
              "    <tr>\n",
              "      <th>3</th>\n",
              "      <td>3</td>\n",
              "      <td>0.0612582</td>\n",
              "    </tr>\n",
              "    <tr>\n",
              "      <th>4</th>\n",
              "      <td>4</td>\n",
              "      <td>1.70094</td>\n",
              "    </tr>\n",
              "  </tbody>\n",
              "</table>\n",
              "</div>"
            ],
            "text/plain": [
              "  Id       time\n",
              "0  0    1.06086\n",
              "1  1    12.1109\n",
              "2  2   0.436049\n",
              "3  3  0.0612582\n",
              "4  4    1.70094"
            ]
          },
          "metadata": {
            "tags": []
          },
          "execution_count": 31
        }
      ]
    },
    {
      "metadata": {
        "id": "5qof7npeAdVD",
        "colab_type": "code",
        "colab": {}
      },
      "cell_type": "code",
      "source": [
        "df.to_csv(\"/content/gdrive/My Drive/competition/data/submission.csv\", index = False)"
      ],
      "execution_count": 0,
      "outputs": []
    },
    {
      "metadata": {
        "id": "mc_jwApBpLdn",
        "colab_type": "code",
        "colab": {}
      },
      "cell_type": "code",
      "source": [
        ""
      ],
      "execution_count": 0,
      "outputs": []
    }
  ]
}